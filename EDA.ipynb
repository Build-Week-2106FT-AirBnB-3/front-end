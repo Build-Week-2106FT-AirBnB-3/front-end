{
 "cells": [
  {
   "cell_type": "code",
   "execution_count": 132,
   "id": "66085afb-274f-4aa5-b8b8-4d4cf3a819fc",
   "metadata": {},
   "outputs": [],
   "source": [
    "import pandas as pd\n",
    "import matplotlib.pyplot as plt\n",
    "import seaborn as sns\n",
    "import numpy as np\n",
    "\n",
    "from sklearn.model_selection import train_test_split#, RandomizedSearchCV\n",
    "from sklearn.ensemble import RandomForestRegressor\n",
    "\n",
    "from sklearn.pipeline import make_pipeline\n",
    "from sklearn.metrics import mean_absolute_error, r2_score\n",
    "from sklearn.impute import SimpleImputer\n",
    "from pandas_profiling import ProfileReport\n",
    "from category_encoders import OneHotEncoder\n",
    "import ipywidgets\n",
    "\n",
    "# how to become a superhost:\n",
    "# https://www.airbnb.com/help/article/829/how-do-i-become-a-       "
   ]
  },
  {
   "cell_type": "code",
   "execution_count": 146,
   "id": "b17f4a26-ca53-4f33-bad3-c2cab911836d",
   "metadata": {},
   "outputs": [],
   "source": [
    "filepath = 'Data/listings.csv.gz'\n",
    "\n",
    "def wrangle(filepath):\n",
    "    air = pd.read_csv(filepath, index_col='id')\n",
    "\n",
    "    # Dropping columns with too many null values\n",
    "    drop_cols_null = ['neighbourhood_group_cleansed', 'bathrooms',\n",
    "                     'calendar_updated']\n",
    "    # air.isnull().sum()\n",
    "    air.drop(columns=drop_cols_null, inplace=True)\n",
    "    \n",
    "    # Dropping columns that seem irrelevant URL links\n",
    "    drop_cols = ['listing_url', 'scrape_id', 'picture_url', 'description',\n",
    "                 'neighborhood_overview', 'host_url', 'host_location', 'name',\n",
    "                 'host_name', 'host_about', 'host_thumbnail_url',\n",
    "                 'host_picture_url', 'host_neighbourhood', 'neighbourhood',\n",
    "                 'host_total_listings_count',\n",
    "                 'last_scraped']\n",
    "\n",
    "    # Seem irrelevant/ noise for our data\n",
    "    drop_cols2 = ['minimum_nights', 'maximum_nights',\n",
    "                  'minimum_minimum_nights', 'maximum_minimum_nights',\n",
    "                   'minimum_maximum_nights', 'maximum_maximum_nights',\n",
    "                   'minimum_nights_avg_ntm', 'maximum_nights_avg_ntm', 'has_availability',\n",
    "                   'availability_30', 'availability_60', 'availability_90',\n",
    "                   'availability_365', 'calendar_last_scraped',\n",
    "                   'calculated_host_listings_count',\n",
    "                   'calculated_host_listings_count_entire_homes',\n",
    "                   'calculated_host_listings_count_private_rooms',\n",
    "                   'calculated_host_listings_count_shared_rooms',\n",
    "                   'review_scores_accuracy',\n",
    "                   'review_scores_cleanliness', 'review_scores_checkin',\n",
    "                   'review_scores_communication', 'review_scores_location',\n",
    "                   'review_scores_value', 'license', 'number_of_reviews_ltm',\n",
    "                   'number_of_reviews_l30d', 'first_review', 'last_review', 'host_acceptance_rate',\n",
    "                   'reviews_per_month',\n",
    "                   'host_response_time', 'host_response_rate', 'host_since']\n",
    "    air.drop(columns=drop_cols, inplace=True)\n",
    "    air.drop(columns=drop_cols2, inplace=True)\n",
    "\n",
    "    # Change the columns t (true) and f (false) to 0 and 1's\n",
    "    ### note, change type\n",
    "    \n",
    "    # Dropping the host_id\n",
    "    \n",
    "    air['latitude'] = air.latitude\n",
    "\n",
    "    air.loc[air['host_identity_verified'] == \"t\", 'host_identity_verified'] = 1\n",
    "    air.loc[air['host_identity_verified'] == \"f\", 'host_identity_verified'] = 0\n",
    "\n",
    "    air.loc[air['host_has_profile_pic'] == \"t\", 'host_has_profile_pic'] = 1\n",
    "    air.loc[air['host_has_profile_pic'] == \"f\", 'host_has_profile_pic'] = 0\n",
    "\n",
    "    air.loc[air['instant_bookable'] == \"t\", 'instant_bookable'] = 1\n",
    "    air.loc[air['instant_bookable'] == \"f\", 'instant_bookable'] = 0\n",
    "\n",
    "    air['super_host'] = 1\n",
    "    air.loc[air['host_is_superhost'] == 'f', 'super_host'] = 0\n",
    "    air.drop(columns='host_is_superhost', inplace=True)\n",
    "\n",
    "    # cleaning the price column to be integers\n",
    "    air['price'] = air['price'].str.replace(',', '').str.strip('$').astype(float)\n",
    "\n",
    "    #if we have time we can review this items:\n",
    "    cols_stretch_goal = ['host_verifications', 'amenities', 'property_type']\n",
    "    air.drop(columns=cols_stretch_goal, inplace=True)\n",
    "\n",
    "    air.head(20)\n",
    "    # Let's rename the columns\n",
    "#     air.columns = ['host_id', 'listing_count', 'profile_pic', 'id_verified',\n",
    "#                   'ward', 'lat', 'long', 'room_type', 'guest_count', 'bath',\n",
    "#                   'bedroom', 'beds', 'price', 'review_count', 'review_score',\n",
    "#                   'ins_book', 'super_host']\n",
    "    \n",
    "    return air"
   ]
  },
  {
   "cell_type": "code",
   "execution_count": 147,
   "id": "d1a4561f-fa9c-4a4f-a153-e856bf3b0f47",
   "metadata": {},
   "outputs": [
    {
     "data": {
      "text/html": [
       "<div>\n",
       "<style scoped>\n",
       "    .dataframe tbody tr th:only-of-type {\n",
       "        vertical-align: middle;\n",
       "    }\n",
       "\n",
       "    .dataframe tbody tr th {\n",
       "        vertical-align: top;\n",
       "    }\n",
       "\n",
       "    .dataframe thead th {\n",
       "        text-align: right;\n",
       "    }\n",
       "</style>\n",
       "<table border=\"1\" class=\"dataframe\">\n",
       "  <thead>\n",
       "    <tr style=\"text-align: right;\">\n",
       "      <th></th>\n",
       "      <th>host_id</th>\n",
       "      <th>host_listings_count</th>\n",
       "      <th>host_has_profile_pic</th>\n",
       "      <th>host_identity_verified</th>\n",
       "      <th>neighbourhood_cleansed</th>\n",
       "      <th>latitude</th>\n",
       "      <th>longitude</th>\n",
       "      <th>room_type</th>\n",
       "      <th>accommodates</th>\n",
       "      <th>bathrooms_text</th>\n",
       "      <th>bedrooms</th>\n",
       "      <th>beds</th>\n",
       "      <th>price</th>\n",
       "      <th>number_of_reviews</th>\n",
       "      <th>review_scores_rating</th>\n",
       "      <th>instant_bookable</th>\n",
       "      <th>super_host</th>\n",
       "    </tr>\n",
       "    <tr>\n",
       "      <th>id</th>\n",
       "      <th></th>\n",
       "      <th></th>\n",
       "      <th></th>\n",
       "      <th></th>\n",
       "      <th></th>\n",
       "      <th></th>\n",
       "      <th></th>\n",
       "      <th></th>\n",
       "      <th></th>\n",
       "      <th></th>\n",
       "      <th></th>\n",
       "      <th></th>\n",
       "      <th></th>\n",
       "      <th></th>\n",
       "      <th></th>\n",
       "      <th></th>\n",
       "      <th></th>\n",
       "    </tr>\n",
       "  </thead>\n",
       "  <tbody>\n",
       "    <tr>\n",
       "      <th>197677</th>\n",
       "      <td>964081</td>\n",
       "      <td>1.0</td>\n",
       "      <td>1</td>\n",
       "      <td>0</td>\n",
       "      <td>Sumida Ku</td>\n",
       "      <td>35.71721</td>\n",
       "      <td>139.82596</td>\n",
       "      <td>Entire home/apt</td>\n",
       "      <td>4</td>\n",
       "      <td>1 bath</td>\n",
       "      <td>1.0</td>\n",
       "      <td>2.0</td>\n",
       "      <td>11000.0</td>\n",
       "      <td>165</td>\n",
       "      <td>95.0</td>\n",
       "      <td>0</td>\n",
       "      <td>0</td>\n",
       "    </tr>\n",
       "    <tr>\n",
       "      <th>776070</th>\n",
       "      <td>801494</td>\n",
       "      <td>1.0</td>\n",
       "      <td>1</td>\n",
       "      <td>1</td>\n",
       "      <td>Kita Ku</td>\n",
       "      <td>35.73844</td>\n",
       "      <td>139.76917</td>\n",
       "      <td>Private room</td>\n",
       "      <td>2</td>\n",
       "      <td>1 shared bath</td>\n",
       "      <td>1.0</td>\n",
       "      <td>1.0</td>\n",
       "      <td>7677.0</td>\n",
       "      <td>228</td>\n",
       "      <td>99.0</td>\n",
       "      <td>1</td>\n",
       "      <td>1</td>\n",
       "    </tr>\n",
       "    <tr>\n",
       "      <th>899003</th>\n",
       "      <td>4799233</td>\n",
       "      <td>2.0</td>\n",
       "      <td>1</td>\n",
       "      <td>1</td>\n",
       "      <td>Shinjuku Ku</td>\n",
       "      <td>35.71019</td>\n",
       "      <td>139.69755</td>\n",
       "      <td>Entire home/apt</td>\n",
       "      <td>3</td>\n",
       "      <td>1 bath</td>\n",
       "      <td>1.0</td>\n",
       "      <td>4.0</td>\n",
       "      <td>5200.0</td>\n",
       "      <td>93</td>\n",
       "      <td>90.0</td>\n",
       "      <td>0</td>\n",
       "      <td>0</td>\n",
       "    </tr>\n",
       "    <tr>\n",
       "      <th>1016831</th>\n",
       "      <td>5596383</td>\n",
       "      <td>1.0</td>\n",
       "      <td>1</td>\n",
       "      <td>1</td>\n",
       "      <td>Setagaya Ku</td>\n",
       "      <td>35.65800</td>\n",
       "      <td>139.67134</td>\n",
       "      <td>Private room</td>\n",
       "      <td>2</td>\n",
       "      <td>1 shared bath</td>\n",
       "      <td>1.0</td>\n",
       "      <td>1.0</td>\n",
       "      <td>4000.0</td>\n",
       "      <td>211</td>\n",
       "      <td>99.0</td>\n",
       "      <td>0</td>\n",
       "      <td>0</td>\n",
       "    </tr>\n",
       "    <tr>\n",
       "      <th>1033276</th>\n",
       "      <td>5686404</td>\n",
       "      <td>NaN</td>\n",
       "      <td>NaN</td>\n",
       "      <td>NaN</td>\n",
       "      <td>Adachi Ku</td>\n",
       "      <td>35.74437</td>\n",
       "      <td>139.79739</td>\n",
       "      <td>Private room</td>\n",
       "      <td>2</td>\n",
       "      <td>1 shared bath</td>\n",
       "      <td>1.0</td>\n",
       "      <td>0.0</td>\n",
       "      <td>30000.0</td>\n",
       "      <td>72</td>\n",
       "      <td>91.0</td>\n",
       "      <td>0</td>\n",
       "      <td>1</td>\n",
       "    </tr>\n",
       "  </tbody>\n",
       "</table>\n",
       "</div>"
      ],
      "text/plain": [
       "         host_id  host_listings_count host_has_profile_pic  \\\n",
       "id                                                           \n",
       "197677    964081                  1.0                    1   \n",
       "776070    801494                  1.0                    1   \n",
       "899003   4799233                  2.0                    1   \n",
       "1016831  5596383                  1.0                    1   \n",
       "1033276  5686404                  NaN                  NaN   \n",
       "\n",
       "        host_identity_verified neighbourhood_cleansed  latitude  longitude  \\\n",
       "id                                                                           \n",
       "197677                       0              Sumida Ku  35.71721  139.82596   \n",
       "776070                       1                Kita Ku  35.73844  139.76917   \n",
       "899003                       1            Shinjuku Ku  35.71019  139.69755   \n",
       "1016831                      1            Setagaya Ku  35.65800  139.67134   \n",
       "1033276                    NaN              Adachi Ku  35.74437  139.79739   \n",
       "\n",
       "               room_type  accommodates bathrooms_text  bedrooms  beds  \\\n",
       "id                                                                      \n",
       "197677   Entire home/apt             4         1 bath       1.0   2.0   \n",
       "776070      Private room             2  1 shared bath       1.0   1.0   \n",
       "899003   Entire home/apt             3         1 bath       1.0   4.0   \n",
       "1016831     Private room             2  1 shared bath       1.0   1.0   \n",
       "1033276     Private room             2  1 shared bath       1.0   0.0   \n",
       "\n",
       "           price  number_of_reviews  review_scores_rating instant_bookable  \\\n",
       "id                                                                           \n",
       "197677   11000.0                165                  95.0                0   \n",
       "776070    7677.0                228                  99.0                1   \n",
       "899003    5200.0                 93                  90.0                0   \n",
       "1016831   4000.0                211                  99.0                0   \n",
       "1033276  30000.0                 72                  91.0                0   \n",
       "\n",
       "         super_host  \n",
       "id                   \n",
       "197677            0  \n",
       "776070            1  \n",
       "899003            0  \n",
       "1016831           0  \n",
       "1033276           1  "
      ]
     },
     "execution_count": 147,
     "metadata": {},
     "output_type": "execute_result"
    }
   ],
   "source": [
    "air = wrangle(filepath)\n",
    "air.head(5)"
   ]
  },
  {
   "cell_type": "code",
   "execution_count": 50,
   "id": "89cae7a0-1820-45b4-84bf-faa82c27e035",
   "metadata": {},
   "outputs": [],
   "source": [
    "# for future reference: data for the station's locations\n",
    "# https://ckan-tokyochallenge.odpt.org/en/dataset?tags=列車ロケーション情報-train_location_information\n"
   ]
  },
  {
   "cell_type": "code",
   "execution_count": 148,
   "id": "82cee81a-54e3-4008-9d88-177762f2677c",
   "metadata": {},
   "outputs": [
    {
     "name": "stdout",
     "output_type": "stream",
     "text": [
      "Training: 8957\n",
      "Validation: 1792\n",
      "Test: 448\n"
     ]
    }
   ],
   "source": [
    "target='price'\n",
    "X = air.drop(columns=target)\n",
    "y = air[target]\n",
    "\n",
    "# Let's split into a test and\n",
    "X_train, X_t, y_train, y_t = train_test_split(X,y, test_size=.2, random_state=7)\n",
    "\n",
    "# Let's split our test data into validation and test\n",
    "X_val, X_test, y_val, y_test = train_test_split(X_t,y_t, test_size=.2, random_state=7)\n",
    "\n",
    "print('Training:', len(X_train))\n",
    "print('Validation:', len(X_val))\n",
    "print('Test:', len(X_test))"
   ]
  },
  {
   "cell_type": "code",
   "execution_count": 149,
   "id": "60b91c1b-bf70-4037-9493-922f9e724339",
   "metadata": {},
   "outputs": [
    {
     "name": "stderr",
     "output_type": "stream",
     "text": [
      "/Library/Frameworks/Python.framework/Versions/3.9/lib/python3.9/site-packages/category_encoders/utils.py:21: FutureWarning: is_categorical is deprecated and will be removed in a future version.  Use is_categorical_dtype instead\n",
      "  elif pd.api.types.is_categorical(cols):\n"
     ]
    }
   ],
   "source": [
    "# Random forest regression\n",
    "\n",
    "model_rf = make_pipeline(OneHotEncoder(use_cat_names=True),\n",
    "                         SimpleImputer(),\n",
    "                         RandomForestRegressor(random_state=70))\n",
    "model_rf.fit(X_train,y_train);\n"
   ]
  },
  {
   "cell_type": "code",
   "execution_count": 150,
   "id": "23f64494-93b5-4703-ba9d-1ca3f89c7af5",
   "metadata": {},
   "outputs": [
    {
     "name": "stdout",
     "output_type": "stream",
     "text": [
      "Random Forest Regressor\n",
      "Baseline MAE:  9628.7062014588\n",
      "MAE Train:  2564.681873041126\n",
      "MAE Validation:  6042.410634090224\n",
      "Rsquared Validation: 0.48636046735139715\n"
     ]
    }
   ],
   "source": [
    "# Mean Absolute Error Accuracy Score\n",
    "# Training\n",
    "print('Random Forest Regressor')\n",
    "\n",
    "y_pred = len(y_train) *[y_train.mean()]\n",
    "baseline_mae = mean_absolute_error(y_train,y_pred)\n",
    "print('Baseline MAE: ', baseline_mae)\n",
    "\n",
    "training_acc = mean_absolute_error(y_train,model_rf.predict(X_train))\n",
    "print('MAE Train: ', training_acc)\n",
    "\n",
    "# Validation\n",
    "val_acc = mean_absolute_error(y_val,model_rf.predict(X_val))\n",
    "print('MAE Validation: ',val_acc)\n",
    "\n",
    "# R squared\n",
    "print('Rsquared Validation:', r2_score(y_val, model_rf.predict(X_val)))"
   ]
  },
  {
   "cell_type": "code",
   "execution_count": 163,
   "id": "4492b329-56cc-4515-ad2e-23d6fdf3698f",
   "metadata": {},
   "outputs": [
    {
     "data": {
      "image/png": "[encoded data removed]",
      "text/plain": [
       "<Figure size 720x720 with 1 Axes>"
      ]
     },
     "metadata": {
      "needs_background": "light"
     },
     "output_type": "display_data"
    }
   ],
   "source": [
    "# Create bar chart\n",
    "# Add coefficients from Model_r's named steps\n",
    "coefficients = model_rf.named_steps['randomforestregressor'].feature_importances_\n",
    "\n",
    "# Add feature names from Model_r's named steps\n",
    "features = model_rf.named_steps['onehotencoder'].get_feature_names()\n",
    "\n",
    "# Combine the two values into a single object, sorting based on the absolute value\n",
    "feat_imp = pd.Series(coefficients, index=features).sort_values(key=abs)\n",
    "\n",
    "# Create the bar chart and limit it to the top 10 features\n",
    "\n",
    "fig, ax = plt.subplots(figsize=(10, 10))\n",
    "feat_imp.tail(30).plot(kind='barh')\n",
    "# Add labels to the chart\n",
    "plt.xlabel('Coefficient [$]')\n",
    "plt.ylabel('Feature')\n",
    "plt.title('Top 10 Coefficients for Ridge Regression \\nand Their Impact on Sale Price')\n",
    "plt.show();"
   ]
  },
  {
   "cell_type": "code",
   "execution_count": null,
   "id": "f6c9dcfa-4b04-4df6-95eb-0fd379ad2809",
   "metadata": {},
   "outputs": [],
   "source": [
    "df_feature_importances = pd.DataFrame(model.named_steps['randomorestregressor'].feature_importances_*100,columns=[\"Importance\"],index=col_names)\n",
    "df_feature_importances = df_feature_importances.sort_values(\"Importance\", ascending=True)"
   ]
  },
  {
   "cell_type": "code",
   "execution_count": 156,
   "id": "cb32b220-1d7e-43fe-b8ac-8acd46c528d4",
   "metadata": {},
   "outputs": [
    {
     "name": "stdout",
     "output_type": "stream",
     "text": [
      "bathrooms_text_12 baths                     1.367663e-08\n",
      "neighbourhood_cleansed_Fussa Shi            1.819116e-08\n",
      "neighbourhood_cleansed_Higashikurume Shi    2.641221e-08\n",
      "neighbourhood_cleansed_Akishima Shi         3.763503e-08\n",
      "neighbourhood_cleansed_Okutama Machi        6.540350e-08\n",
      "                                                ...     \n",
      "accommodates                                4.762012e-02\n",
      "number_of_reviews                           6.627064e-02\n",
      "host_id                                     9.151752e-02\n",
      "longitude                                   1.528478e-01\n",
      "latitude                                    2.527890e-01\n",
      "Length: 109, dtype: float64\n"
     ]
    }
   ],
   "source": [
    "print(feat_imp)"
   ]
  },
  {
   "cell_type": "code",
   "execution_count": 164,
   "id": "b7b82b53-8820-46db-bf23-b53b0958ea19",
   "metadata": {},
   "outputs": [],
   "source": [
    "air.to_csv('clean_data.csv')"
   ]
  },
  {
   "cell_type": "code",
   "execution_count": null,
   "id": "be8acfe7",
   "metadata": {},
   "outputs": [],
   "source": [
    "air.columns"
   ]
  },
  {
   "cell_type": "code",
   "execution_count": 33,
   "id": "b00c2440",
   "metadata": {},
   "outputs": [
    {
     "data": {
      "text/plain": [
       "Index(['id', 'host_id', 'host_listings_count', 'host_has_profile_pic',\n",
       "       'host_identity_verified', 'neighbourhood_cleansed', 'latitude',\n",
       "       'longitude', 'room_type', 'accommodates', 'bathrooms_text', 'bedrooms',\n",
       "       'beds', 'price', 'number_of_reviews', 'review_scores_rating',\n",
       "       'instant_bookable', 'super_host'],\n",
       "      dtype='object')"
      ]
     },
     "execution_count": 33,
     "metadata": {},
     "output_type": "execute_result"
    }
   ],
   "source": [
    "clean_data = pd.read_csv('clean_data.csv')\n",
    "clean_data.columns"
   ]
  },
  {
   "cell_type": "code",
   "execution_count": 36,
   "id": "56d6c501",
   "metadata": {},
   "outputs": [
    {
     "data": {
      "text/plain": [
       "Index(['bathrooms_text_35', 'neighbourhood_cleansed_48',\n",
       "       'neighbourhood_cleansed_38', 'neighbourhood_cleansed_36',\n",
       "       'neighbourhood_cleansed_46', 'neighbourhood_cleansed_34',\n",
       "       'neighbourhood_cleansed_30', 'neighbourhood_cleansed_42',\n",
       "       'neighbourhood_cleansed_31', 'bathrooms_text_37',\n",
       "       ...\n",
       "       'host_listings_count', 'review_scores_rating', 'bedrooms',\n",
       "       'neighbourhood_cleansed_3', 'neighbourhood_cleansed_1', 'accommodates',\n",
       "       'number_of_reviews', 'host_id', 'longitude', 'latitude'],\n",
       "      dtype='object', length=109)"
      ]
     },
     "execution_count": 36,
     "metadata": {},
     "output_type": "execute_result"
    }
   ],
   "source": [
    "feat_imp.index"
   ]
  },
  {
   "cell_type": "code",
   "execution_count": 169,
   "id": "02eae862",
   "metadata": {},
   "outputs": [
    {
     "name": "stdout",
     "output_type": "stream",
     "text": [
      "latitude\n",
      "Min 35.53753\n",
      "Max 35.83064\n",
      "Difference 0.029311000000000576\n",
      " \n",
      "longitude\n",
      "Min 139.10773\n",
      "Max 139.91158\n",
      "Difference 0.08038499999999829\n",
      " \n",
      "accommodates\n",
      "Min 0\n",
      "Max 16\n",
      "Difference 1.6\n",
      " \n"
     ]
    },
    {
     "data": {
      "text/plain": [
       "3553753"
      ]
     },
     "execution_count": 169,
     "metadata": {},
     "output_type": "execute_result"
    }
   ],
   "source": [
    "#top3 - latitude, longitude, host_id, number_of_reviews, accomodates, \n",
    "\n",
    "top_list = ['latitude', 'longitude', 'accommodates']\n",
    "\n",
    "for item in top_list:\n",
    "    print(item)\n",
    "    minimum = air[item].min()\n",
    "    maximum = air[item].max()\n",
    "    print('Min', minimum)\n",
    "    print('Max', maximum)\n",
    "    print('Difference', (maximum-minimum)/10)\n",
    "    \n",
    "    print(' ')\n",
    "    \n",
    "round(35.53753*100000)"
   ]
  },
  {
   "cell_type": "code",
   "execution_count": 141,
   "id": "9af96d32",
   "metadata": {},
   "outputs": [
    {
     "name": "stdout",
     "output_type": "stream",
     "text": [
      "Training: 8957\n",
      "Validation: 1792\n",
      "Test: 448\n"
     ]
    },
    {
     "name": "stderr",
     "output_type": "stream",
     "text": [
      "/Library/Frameworks/Python.framework/Versions/3.9/lib/python3.9/site-packages/category_encoders/utils.py:21: FutureWarning: is_categorical is deprecated and will be removed in a future version.  Use is_categorical_dtype instead\n",
      "  elif pd.api.types.is_categorical(cols):\n"
     ]
    },
    {
     "name": "stdout",
     "output_type": "stream",
     "text": [
      "Random Forest Regressor\n",
      "Rsquared Validation: 0.012445462337617896\n"
     ]
    },
    {
     "data": {
      "image/png": "[encoded data removed]",
      "text/plain": [
       "<Figure size 432x288 with 1 Axes>"
      ]
     },
     "metadata": {
      "needs_background": "light"
     },
     "output_type": "display_data"
    }
   ],
   "source": [
    "## checking for wards of Tokyo\n",
    "target='price'\n",
    "X = air.drop(columns=target)\n",
    "X = air['neighbourhood_cleansed']\n",
    "y = air[target]\n",
    "\n",
    "# Let's split into a test and\n",
    "X_train, X_t, y_train, y_t = train_test_split(X,y, test_size=.2, random_state=7)\n",
    "\n",
    "# Let's split our test data into validation and test\n",
    "X_val, X_test, y_val, y_test = train_test_split(X_t,y_t, test_size=.2, random_state=7)\n",
    "\n",
    "print('Training:', len(X_train))\n",
    "print('Validation:', len(X_val))\n",
    "print('Test:', len(X_test))\n",
    "\n",
    "\n",
    "model_rf = make_pipeline(OneHotEncoder(use_cat_names=True),\n",
    "                         SimpleImputer(),\n",
    "                         RandomForestRegressor(random_state=70))\n",
    "model_rf.fit(X_train,y_train);\n",
    "\n",
    "#######\n",
    "\n",
    "# Mean Absolute Error Accuracy Score\n",
    "# Training\n",
    "print('Random Forest Regressor')\n",
    "\n",
    "y_pred = len(y_train) *['Shinjuku Ku']\n",
    "# baseline_mae = mean_absolute_error(y_train, y_pred)\n",
    "# print('Baseline MAE: ', baseline_mae)\n",
    "\n",
    "# training_acc = mean_absolute_error(y_train, model_rf.predict(X_train))\n",
    "# print('MAE Train: ', training_acc)\n",
    "\n",
    "# # Validation\n",
    "# val_acc = mean_absolute_error(y_val, model_rf.predict(X_val))\n",
    "# print('MAE Validation: ',val_acc)\n",
    "\n",
    "# R squared\n",
    "print('Rsquared Validation:', r2_score(y_val, model_rf.predict(X_val)))\n",
    "\n",
    "#######\n",
    "\n",
    "# Create bar chart\n",
    "# Add coefficients from Model_r's named steps\n",
    "coefficients = model_rf.named_steps['randomforestregressor'].feature_importances_\n",
    "\n",
    "# Add feature names from Model_r's named steps\n",
    "features = model_rf.named_steps['onehotencoder'].get_feature_names()\n",
    "\n",
    "# Combine the two values into a single object, sorting based on the absolute value\n",
    "feat_imp = pd.Series(coefficients, index=features).sort_values(key=abs)\n",
    "\n",
    "# feat_importances = pd.DataFrame(coefficients, columns)\n",
    "\n",
    "# Create the bar chart and limit it to the top 10 features\n",
    "feat_imp.tail(20).plot(kind='barh')\n",
    "# Add labels to the chart\n",
    "plt.xlabel('Coefficient [$]')\n",
    "plt.ylabel('Feature')\n",
    "plt.title('Top 10 Coefficients for Ridge Regression \\nand Their Impact on Sale Price')\n",
    "plt.show();"
   ]
  },
  {
   "cell_type": "code",
   "execution_count": 100,
   "id": "3ee9b023",
   "metadata": {},
   "outputs": [
    {
     "data": {
      "text/plain": [
       "Index(['Shinjuku Ku'], dtype='object')"
      ]
     },
     "execution_count": 100,
     "metadata": {},
     "output_type": "execute_result"
    }
   ],
   "source": [
    "air['neighbourhood_cleansed'].value_counts().head(1).index"
   ]
  },
  {
   "cell_type": "code",
   "execution_count": 104,
   "id": "3c883d6b",
   "metadata": {},
   "outputs": [],
   "source": [
    "model_rf.predict()"
   ]
  },
  {
   "cell_type": "code",
   "execution_count": 112,
   "id": "c36b524c",
   "metadata": {},
   "outputs": [],
   "source": [
    "import pickle"
   ]
  },
  {
   "cell_type": "code",
   "execution_count": 113,
   "id": "3275147b",
   "metadata": {},
   "outputs": [],
   "source": [
    "my_model = pickle.dumps(model_rf)"
   ]
  },
  {
   "cell_type": "code",
   "execution_count": 126,
   "id": "a7623495",
   "metadata": {},
   "outputs": [],
   "source": [
    "outfile = open('random_forest_model', 'wb')\n",
    "pickle.dump(model_rf, outfile)\n",
    "outfile.close()"
   ]
  },
  {
   "cell_type": "code",
   "execution_count": null,
   "id": "1bc70cd1",
   "metadata": {},
   "outputs": [],
   "source": [
    "f_impor = model_rf.named_steps['randomforestregressor'].feature_importances_\n",
    "col_names = model_rf.named_steps[]\n",
    "df_feature_importances = pd.DataFrame(f_impor, columns=[\"Importance\"], index=col_names)\n",
    "df_feature_importances = df_feature_importances.sort_values(\"Importance\", ascending=False).head(10)\n"
   ]
  }
 ],
 "metadata": {
  "kernelspec": {
   "display_name": "buildweek2106 (Python3)",
   "language": "python",
   "name": "buildweek2106"
  },
  "language_info": {
   "codemirror_mode": {
    "name": "ipython",
    "version": 3
   },
   "file_extension": ".py",
   "mimetype": "text/x-python",
   "name": "python",
   "nbconvert_exporter": "python",
   "pygments_lexer": "ipython3",
   "version": "3.9.5"
  }
 },
 "nbformat": 4,
 "nbformat_minor": 5
}
